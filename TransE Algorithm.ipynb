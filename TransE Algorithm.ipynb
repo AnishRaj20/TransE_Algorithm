{
 "cells": [
  {
   "cell_type": "markdown",
   "metadata": {},
   "source": [
    "# <font color=blue>TransE Algorithm</font>\n",
    "\n",
    "**IGERT Trainees**: Roman Aguilera and Su Burtner <br>\n",
    "**IGERT Mentor**: Yi Ding\n",
    "\n",
    "##### Keywords: <font color=blue>embedding, multi-relational data, Freebase</font>\n",
    "\n",
    "### <font color=blue>Project Description</font>\n",
    "    The goal of this project is to learn how to translate the TransE Algorithm presented in [this link](https://papers.nips.cc/paper/5071-translating-embeddings-for-modeling-multi-relational-data.pdf) into python source code.\n",
    "\n",
    "### <font color=blue>Project Tasks</font>\n",
    "    1. Data pre-processing: extract a subset of the Freebase data and import to python in the correct format & structures\n",
    "    2. Algorithm implementation: translate a mathematical description of the algorithm in the original paper into python source code\n",
    "    3. Visualization: plot the locations of the nodes over time\n",
    "    \n",
    "##### Software tools: <font color=blue>GitHub, jupyter</font>"
   ]
  },
  {
   "cell_type": "code",
   "execution_count": null,
   "metadata": {
    "collapsed": true
   },
   "outputs": [],
   "source": []
  },
  {
   "cell_type": "code",
   "execution_count": null,
   "metadata": {
    "collapsed": true
   },
   "outputs": [],
   "source": []
  }
 ],
 "metadata": {
  "kernelspec": {
   "display_name": "Python 3",
   "language": "python",
   "name": "python3"
  },
  "language_info": {
   "codemirror_mode": {
    "name": "ipython",
    "version": 3
   },
   "file_extension": ".py",
   "mimetype": "text/x-python",
   "name": "python",
   "nbconvert_exporter": "python",
   "pygments_lexer": "ipython3",
   "version": "3.6.2"
  }
 },
 "nbformat": 4,
 "nbformat_minor": 2
}
